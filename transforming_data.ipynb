{
 "cells": [
  {
   "cell_type": "code",
   "execution_count": 18,
   "id": "e0f562f9-31b7-4c45-9930-2a63eb4cde7d",
   "metadata": {
    "editable": true,
    "slideshow": {
     "slide_type": ""
    },
    "tags": []
   },
   "outputs": [],
   "source": [
    "import pandas as pd\n",
    "import ast\n",
    "\n",
    "estoque = pd.read_csv('spreadsheets/soma_estoque.csv')\n",
    "pedidos = pd.read_csv('spreadsheets/pedidos.csv')\n",
    "precos = pd.read_csv('spreadsheets/infos_de_precos.csv')\n",
    "fornecedores = pd.read_csv('spreadsheets/fornecedores.csv')"
   ]
  },
  {
   "cell_type": "code",
   "execution_count": 9,
   "id": "816d1b05-1af6-4b70-99db-33d076aa0ffc",
   "metadata": {
    "editable": true,
    "slideshow": {
     "slide_type": ""
    },
    "tags": []
   },
   "outputs": [
    {
     "data": {
      "text/plain": [
       "0    [{'id': 2, 'quantidade': 4}, {'id': 3, 'quanti...\n",
       "1    [{'id': 1, 'quantidade': 2}, {'id': 2, 'quanti...\n",
       "Name: produtos, dtype: object"
      ]
     },
     "execution_count": 9,
     "metadata": {},
     "output_type": "execute_result"
    }
   ],
   "source": [
    "quantid_comprada = pedidos['produtos']\n",
    "quantid_comprada"
   ]
  },
  {
   "cell_type": "code",
   "execution_count": 19,
   "id": "82287a01-f08a-46c3-8ec4-04424e019938",
   "metadata": {},
   "outputs": [
    {
     "name": "stdout",
     "output_type": "stream",
     "text": [
      "[<class 'list'>]\n"
     ]
    }
   ],
   "source": [
    "pedidos['produtos'] = pedidos['produtos'].apply(ast.literal_eval) #Transformando em lista\n",
    "print(pedidos['produtos'].apply(type).unique()) #Verificando tipo de dados da coluna"
   ]
  },
  {
   "cell_type": "code",
   "execution_count": 21,
   "id": "8a98a610-b793-4e9e-9250-28adca1c18bc",
   "metadata": {},
   "outputs": [
    {
     "data": {
      "text/html": [
       "<div>\n",
       "<style scoped>\n",
       "    .dataframe tbody tr th:only-of-type {\n",
       "        vertical-align: middle;\n",
       "    }\n",
       "\n",
       "    .dataframe tbody tr th {\n",
       "        vertical-align: top;\n",
       "    }\n",
       "\n",
       "    .dataframe thead th {\n",
       "        text-align: right;\n",
       "    }\n",
       "</style>\n",
       "<table border=\"1\" class=\"dataframe\">\n",
       "  <thead>\n",
       "    <tr style=\"text-align: right;\">\n",
       "      <th></th>\n",
       "      <th>cliente</th>\n",
       "      <th>id</th>\n",
       "      <th>status</th>\n",
       "      <th>prod_id</th>\n",
       "      <th>prod_quantidade</th>\n",
       "    </tr>\n",
       "  </thead>\n",
       "  <tbody>\n",
       "    <tr>\n",
       "      <th>0</th>\n",
       "      <td>Empresa A</td>\n",
       "      <td>1</td>\n",
       "      <td>Pago</td>\n",
       "      <td>2</td>\n",
       "      <td>4</td>\n",
       "    </tr>\n",
       "    <tr>\n",
       "      <th>1</th>\n",
       "      <td>Empresa A</td>\n",
       "      <td>1</td>\n",
       "      <td>Pago</td>\n",
       "      <td>3</td>\n",
       "      <td>3</td>\n",
       "    </tr>\n",
       "    <tr>\n",
       "      <th>2</th>\n",
       "      <td>Empresa B</td>\n",
       "      <td>2</td>\n",
       "      <td>Pendente</td>\n",
       "      <td>1</td>\n",
       "      <td>2</td>\n",
       "    </tr>\n",
       "    <tr>\n",
       "      <th>3</th>\n",
       "      <td>Empresa B</td>\n",
       "      <td>2</td>\n",
       "      <td>Pendente</td>\n",
       "      <td>2</td>\n",
       "      <td>5</td>\n",
       "    </tr>\n",
       "  </tbody>\n",
       "</table>\n",
       "</div>"
      ],
      "text/plain": [
       "     cliente  id    status  prod_id  prod_quantidade\n",
       "0  Empresa A   1      Pago        2                4\n",
       "1  Empresa A   1      Pago        3                3\n",
       "2  Empresa B   2  Pendente        1                2\n",
       "3  Empresa B   2  Pendente        2                5"
      ]
     },
     "execution_count": 21,
     "metadata": {},
     "output_type": "execute_result"
    }
   ],
   "source": [
    "# Explodindo a lista para separar cada produto em uma linha\n",
    "a = pedidos.explode('produtos').reset_index(drop=True)\n",
    "\n",
    "# Transformando os dicionários em colunas separadas\n",
    "a = a.join(pd.DataFrame(a.pop('produtos').tolist()).add_prefix('prod_'))\n",
    "a"
   ]
  },
  {
   "cell_type": "code",
   "execution_count": 22,
   "id": "f930761e-fba5-4027-ae8a-f09a1587435c",
   "metadata": {},
   "outputs": [
    {
     "data": {
      "text/html": [
       "<div>\n",
       "<style scoped>\n",
       "    .dataframe tbody tr th:only-of-type {\n",
       "        vertical-align: middle;\n",
       "    }\n",
       "\n",
       "    .dataframe tbody tr th {\n",
       "        vertical-align: top;\n",
       "    }\n",
       "\n",
       "    .dataframe thead th {\n",
       "        text-align: right;\n",
       "    }\n",
       "</style>\n",
       "<table border=\"1\" class=\"dataframe\">\n",
       "  <thead>\n",
       "    <tr style=\"text-align: right;\">\n",
       "      <th></th>\n",
       "      <th>idP</th>\n",
       "      <th>estoque</th>\n",
       "    </tr>\n",
       "  </thead>\n",
       "  <tbody>\n",
       "    <tr>\n",
       "      <th>0</th>\n",
       "      <td>1</td>\n",
       "      <td>25</td>\n",
       "    </tr>\n",
       "    <tr>\n",
       "      <th>1</th>\n",
       "      <td>2</td>\n",
       "      <td>50</td>\n",
       "    </tr>\n",
       "    <tr>\n",
       "      <th>2</th>\n",
       "      <td>3</td>\n",
       "      <td>30</td>\n",
       "    </tr>\n",
       "    <tr>\n",
       "      <th>3</th>\n",
       "      <td>4</td>\n",
       "      <td>20</td>\n",
       "    </tr>\n",
       "  </tbody>\n",
       "</table>\n",
       "</div>"
      ],
      "text/plain": [
       "   idP  estoque\n",
       "0    1       25\n",
       "1    2       50\n",
       "2    3       30\n",
       "3    4       20"
      ]
     },
     "execution_count": 22,
     "metadata": {},
     "output_type": "execute_result"
    }
   ],
   "source": [
    "estoque"
   ]
  },
  {
   "cell_type": "code",
   "execution_count": 24,
   "id": "962faf39-9f43-4234-abce-2849743f6e7c",
   "metadata": {},
   "outputs": [
    {
     "data": {
      "text/html": [
       "<div>\n",
       "<style scoped>\n",
       "    .dataframe tbody tr th:only-of-type {\n",
       "        vertical-align: middle;\n",
       "    }\n",
       "\n",
       "    .dataframe tbody tr th {\n",
       "        vertical-align: top;\n",
       "    }\n",
       "\n",
       "    .dataframe thead th {\n",
       "        text-align: right;\n",
       "    }\n",
       "</style>\n",
       "<table border=\"1\" class=\"dataframe\">\n",
       "  <thead>\n",
       "    <tr style=\"text-align: right;\">\n",
       "      <th></th>\n",
       "      <th>cliente</th>\n",
       "      <th>id</th>\n",
       "      <th>status</th>\n",
       "      <th>prod_id</th>\n",
       "      <th>prod_quantidade</th>\n",
       "      <th>idP</th>\n",
       "      <th>estoque</th>\n",
       "    </tr>\n",
       "  </thead>\n",
       "  <tbody>\n",
       "    <tr>\n",
       "      <th>0</th>\n",
       "      <td>Empresa A</td>\n",
       "      <td>1</td>\n",
       "      <td>Pago</td>\n",
       "      <td>2</td>\n",
       "      <td>4</td>\n",
       "      <td>2</td>\n",
       "      <td>50</td>\n",
       "    </tr>\n",
       "    <tr>\n",
       "      <th>1</th>\n",
       "      <td>Empresa A</td>\n",
       "      <td>1</td>\n",
       "      <td>Pago</td>\n",
       "      <td>3</td>\n",
       "      <td>3</td>\n",
       "      <td>3</td>\n",
       "      <td>30</td>\n",
       "    </tr>\n",
       "    <tr>\n",
       "      <th>2</th>\n",
       "      <td>Empresa B</td>\n",
       "      <td>2</td>\n",
       "      <td>Pendente</td>\n",
       "      <td>1</td>\n",
       "      <td>2</td>\n",
       "      <td>1</td>\n",
       "      <td>25</td>\n",
       "    </tr>\n",
       "    <tr>\n",
       "      <th>3</th>\n",
       "      <td>Empresa B</td>\n",
       "      <td>2</td>\n",
       "      <td>Pendente</td>\n",
       "      <td>2</td>\n",
       "      <td>5</td>\n",
       "      <td>2</td>\n",
       "      <td>50</td>\n",
       "    </tr>\n",
       "  </tbody>\n",
       "</table>\n",
       "</div>"
      ],
      "text/plain": [
       "     cliente  id    status  prod_id  prod_quantidade  idP  estoque\n",
       "0  Empresa A   1      Pago        2                4    2       50\n",
       "1  Empresa A   1      Pago        3                3    3       30\n",
       "2  Empresa B   2  Pendente        1                2    1       25\n",
       "3  Empresa B   2  Pendente        2                5    2       50"
      ]
     },
     "execution_count": 24,
     "metadata": {},
     "output_type": "execute_result"
    }
   ],
   "source": [
    "merged = pd.merge(a, estoque, left_on='prod_id', right_on='idP', how='inner')\n",
    "merged"
   ]
  },
  {
   "cell_type": "code",
   "execution_count": 26,
   "id": "0aaaf772-f6bd-4b7b-92cd-82b15e8ab212",
   "metadata": {},
   "outputs": [
    {
     "data": {
      "text/html": [
       "<div>\n",
       "<style scoped>\n",
       "    .dataframe tbody tr th:only-of-type {\n",
       "        vertical-align: middle;\n",
       "    }\n",
       "\n",
       "    .dataframe tbody tr th {\n",
       "        vertical-align: top;\n",
       "    }\n",
       "\n",
       "    .dataframe thead th {\n",
       "        text-align: right;\n",
       "    }\n",
       "</style>\n",
       "<table border=\"1\" class=\"dataframe\">\n",
       "  <thead>\n",
       "    <tr style=\"text-align: right;\">\n",
       "      <th></th>\n",
       "      <th>cliente</th>\n",
       "      <th>id</th>\n",
       "      <th>status</th>\n",
       "      <th>prod_id</th>\n",
       "      <th>prod_quantidade</th>\n",
       "      <th>idP</th>\n",
       "      <th>estoque</th>\n",
       "    </tr>\n",
       "  </thead>\n",
       "  <tbody>\n",
       "    <tr>\n",
       "      <th>0</th>\n",
       "      <td>Empresa A</td>\n",
       "      <td>1</td>\n",
       "      <td>Pago</td>\n",
       "      <td>2</td>\n",
       "      <td>4</td>\n",
       "      <td>2</td>\n",
       "      <td>42</td>\n",
       "    </tr>\n",
       "    <tr>\n",
       "      <th>1</th>\n",
       "      <td>Empresa A</td>\n",
       "      <td>1</td>\n",
       "      <td>Pago</td>\n",
       "      <td>3</td>\n",
       "      <td>3</td>\n",
       "      <td>3</td>\n",
       "      <td>24</td>\n",
       "    </tr>\n",
       "    <tr>\n",
       "      <th>2</th>\n",
       "      <td>Empresa B</td>\n",
       "      <td>2</td>\n",
       "      <td>Pendente</td>\n",
       "      <td>1</td>\n",
       "      <td>2</td>\n",
       "      <td>1</td>\n",
       "      <td>21</td>\n",
       "    </tr>\n",
       "    <tr>\n",
       "      <th>3</th>\n",
       "      <td>Empresa B</td>\n",
       "      <td>2</td>\n",
       "      <td>Pendente</td>\n",
       "      <td>2</td>\n",
       "      <td>5</td>\n",
       "      <td>2</td>\n",
       "      <td>40</td>\n",
       "    </tr>\n",
       "  </tbody>\n",
       "</table>\n",
       "</div>"
      ],
      "text/plain": [
       "     cliente  id    status  prod_id  prod_quantidade  idP  estoque\n",
       "0  Empresa A   1      Pago        2                4    2       42\n",
       "1  Empresa A   1      Pago        3                3    3       24\n",
       "2  Empresa B   2  Pendente        1                2    1       21\n",
       "3  Empresa B   2  Pendente        2                5    2       40"
      ]
     },
     "execution_count": 26,
     "metadata": {},
     "output_type": "execute_result"
    }
   ],
   "source": [
    "merged['estoque'] = merged['estoque'] - merged['prod_quantidade']\n",
    "merged"
   ]
  },
  {
   "cell_type": "code",
   "execution_count": 27,
   "id": "a9f2e51a-0e04-4e1e-af4c-0c5ee10cef74",
   "metadata": {},
   "outputs": [
    {
     "data": {
      "text/html": [
       "<div>\n",
       "<style scoped>\n",
       "    .dataframe tbody tr th:only-of-type {\n",
       "        vertical-align: middle;\n",
       "    }\n",
       "\n",
       "    .dataframe tbody tr th {\n",
       "        vertical-align: top;\n",
       "    }\n",
       "\n",
       "    .dataframe thead th {\n",
       "        text-align: right;\n",
       "    }\n",
       "</style>\n",
       "<table border=\"1\" class=\"dataframe\">\n",
       "  <thead>\n",
       "    <tr style=\"text-align: right;\">\n",
       "      <th></th>\n",
       "      <th>idP</th>\n",
       "      <th>estoque</th>\n",
       "    </tr>\n",
       "  </thead>\n",
       "  <tbody>\n",
       "    <tr>\n",
       "      <th>0</th>\n",
       "      <td>1</td>\n",
       "      <td>42</td>\n",
       "    </tr>\n",
       "    <tr>\n",
       "      <th>1</th>\n",
       "      <td>2</td>\n",
       "      <td>24</td>\n",
       "    </tr>\n",
       "    <tr>\n",
       "      <th>2</th>\n",
       "      <td>3</td>\n",
       "      <td>21</td>\n",
       "    </tr>\n",
       "    <tr>\n",
       "      <th>3</th>\n",
       "      <td>4</td>\n",
       "      <td>40</td>\n",
       "    </tr>\n",
       "  </tbody>\n",
       "</table>\n",
       "</div>"
      ],
      "text/plain": [
       "   idP  estoque\n",
       "0    1       42\n",
       "1    2       24\n",
       "2    3       21\n",
       "3    4       40"
      ]
     },
     "execution_count": 27,
     "metadata": {},
     "output_type": "execute_result"
    }
   ],
   "source": [
    "estoque['estoque'] = merged['estoque']\n",
    "estoque"
   ]
  },
  {
   "cell_type": "code",
   "execution_count": 6,
   "id": "f41fb933-1c31-41f4-aa22-72557c0b7085",
   "metadata": {},
   "outputs": [
    {
     "data": {
      "text/html": [
       "<div>\n",
       "<style scoped>\n",
       "    .dataframe tbody tr th:only-of-type {\n",
       "        vertical-align: middle;\n",
       "    }\n",
       "\n",
       "    .dataframe tbody tr th {\n",
       "        vertical-align: top;\n",
       "    }\n",
       "\n",
       "    .dataframe thead th {\n",
       "        text-align: right;\n",
       "    }\n",
       "</style>\n",
       "<table border=\"1\" class=\"dataframe\">\n",
       "  <thead>\n",
       "    <tr style=\"text-align: right;\">\n",
       "      <th></th>\n",
       "      <th>cliente</th>\n",
       "      <th>produtos</th>\n",
       "    </tr>\n",
       "  </thead>\n",
       "  <tbody>\n",
       "    <tr>\n",
       "      <th>0</th>\n",
       "      <td>Empresa A</td>\n",
       "      <td>[{'id': 1, 'quantidade': 2}, {'id': 2, 'quanti...</td>\n",
       "    </tr>\n",
       "    <tr>\n",
       "      <th>1</th>\n",
       "      <td>Empresa B</td>\n",
       "      <td>[{'id': 3, 'quantidade': 1}, {'id': 4, 'quanti...</td>\n",
       "    </tr>\n",
       "  </tbody>\n",
       "</table>\n",
       "</div>"
      ],
      "text/plain": [
       "     cliente                                           produtos\n",
       "0  Empresa A  [{'id': 1, 'quantidade': 2}, {'id': 2, 'quanti...\n",
       "1  Empresa B  [{'id': 3, 'quantidade': 1}, {'id': 4, 'quanti..."
      ]
     },
     "execution_count": 6,
     "metadata": {},
     "output_type": "execute_result"
    }
   ],
   "source": [
    "\n",
    "# Criando um exemplo simples\n",
    "df_test = pd.DataFrame({\n",
    "    'cliente': ['Empresa A', 'Empresa B'],\n",
    "    'produtos': [\n",
    "        [{'id': 1, 'quantidade': 2}, {'id': 2, 'quantidade': 3}],\n",
    "        [{'id': 3, 'quantidade': 1}, {'id': 4, 'quantidade': 5}]\n",
    "    ]\n",
    "})\n",
    "df_test\n"
   ]
  },
  {
   "cell_type": "code",
   "execution_count": 7,
   "id": "b93c2927-08f2-408b-b3aa-3938e2641f00",
   "metadata": {},
   "outputs": [
    {
     "name": "stdout",
     "output_type": "stream",
     "text": [
      "     cliente                    produtos\n",
      "0  Empresa A  {'id': 1, 'quantidade': 2}\n",
      "1  Empresa A  {'id': 2, 'quantidade': 3}\n",
      "2  Empresa B  {'id': 3, 'quantidade': 1}\n",
      "3  Empresa B  {'id': 4, 'quantidade': 5}\n"
     ]
    }
   ],
   "source": [
    "\n",
    "# Usando explode para separar os produtos em linhas diferentes\n",
    "df_exploded_test = df_test.explode('produtos', ignore_index=True)\n",
    "\n",
    "# Exibindo o resultado\n",
    "print(df_exploded_test)"
   ]
  }
 ],
 "metadata": {
  "kernelspec": {
   "display_name": "Python 3 (ipykernel)",
   "language": "python",
   "name": "python3"
  },
  "language_info": {
   "codemirror_mode": {
    "name": "ipython",
    "version": 3
   },
   "file_extension": ".py",
   "mimetype": "text/x-python",
   "name": "python",
   "nbconvert_exporter": "python",
   "pygments_lexer": "ipython3",
   "version": "3.10.12"
  }
 },
 "nbformat": 4,
 "nbformat_minor": 5
}
