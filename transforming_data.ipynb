{
 "cells": [
  {
   "cell_type": "code",
   "execution_count": 9,
   "id": "e0f562f9-31b7-4c45-9930-2a63eb4cde7d",
   "metadata": {
    "editable": true,
    "slideshow": {
     "slide_type": ""
    },
    "tags": []
   },
   "outputs": [],
   "source": [
    "import pandas as pd\n",
    "\n",
    "df_estoque = pd.read_csv('soma_estoque.csv')\n",
    "df_pedidos = pd.read_csv('pedidos.csv')"
   ]
  },
  {
   "cell_type": "code",
   "execution_count": 10,
   "id": "816d1b05-1af6-4b70-99db-33d076aa0ffc",
   "metadata": {
    "editable": true,
    "slideshow": {
     "slide_type": ""
    },
    "tags": []
   },
   "outputs": [
    {
     "data": {
      "text/plain": [
       "0    [{'id': 2, 'quantidade': 4}, {'id': 3, 'quanti...\n",
       "1    [{'id': 1, 'quantidade': 2}, {'id': 2, 'quanti...\n",
       "Name: produtos, dtype: object"
      ]
     },
     "execution_count": 10,
     "metadata": {},
     "output_type": "execute_result"
    }
   ],
   "source": [
    "df_pedidos['produtos']"
   ]
  }
 ],
 "metadata": {
  "kernelspec": {
   "display_name": "Python 3 (ipykernel)",
   "language": "python",
   "name": "python3"
  },
  "language_info": {
   "codemirror_mode": {
    "name": "ipython",
    "version": 3
   },
   "file_extension": ".py",
   "mimetype": "text/x-python",
   "name": "python",
   "nbconvert_exporter": "python",
   "pygments_lexer": "ipython3",
   "version": "3.10.12"
  }
 },
 "nbformat": 4,
 "nbformat_minor": 5
}
